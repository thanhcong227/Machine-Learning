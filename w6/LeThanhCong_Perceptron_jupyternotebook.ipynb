{
 "cells": [
  {
   "cell_type": "markdown",
   "source": [
    "# MACHINE LEARNING: BÀI THỰC HÀNH PHẦN MÔ HÌNH PERCEPTRON."
   ],
   "metadata": {
    "collapsed": false
   }
  },
  {
   "cell_type": "markdown",
   "source": [
    "# Ví dụ 1"
   ],
   "metadata": {
    "collapsed": false
   }
  },
  {
   "cell_type": "code",
   "execution_count": 45,
   "outputs": [
    {
     "name": "stdout",
     "output_type": "stream",
     "text": [
      "[[ 1.  1.  1.  1.  1.  1.  1.  1.  1.  1.  1.  1.  1.  1.  1.  1.  1.  1.\n",
      "   1.  1.  1.  1.  1.  1.  1.  1.  1.  1.  1.  1. -1. -1. -1. -1. -1. -1.\n",
      "  -1. -1. -1. -1. -1. -1. -1. -1. -1. -1. -1. -1. -1. -1. -1. -1. -1. -1.\n",
      "  -1. -1. -1. -1. -1. -1.]]\n"
     ]
    }
   ],
   "source": [
    "import numpy as np\n",
    "import matplotlib.pyplot as plt\n",
    "\n",
    "np.random.seed(2)\n",
    "means = [[2, 2], [4, 2]]\n",
    "cov = [[.3, .2], [.2, .3]]\n",
    "N = 30\n",
    "X0 = np.random.multivariate_normal(means[0], cov, N).T\n",
    "X1 = np.random.multivariate_normal(means[1], cov, N).T\n",
    "\n",
    "X = np.concatenate((X0, X1), axis=1)\n",
    "\n",
    "y = np.concatenate((np.ones((1, N)), -1 * np.ones((1, N))), axis=1)\n",
    "print(y)\n",
    "\n",
    "# Xbar\n",
    "X = np.concatenate((np.ones((1, 2 * N)), X), axis=0)"
   ],
   "metadata": {
    "collapsed": false
   }
  },
  {
   "cell_type": "markdown",
   "source": [
    "Hiển thị dữ liệu."
   ],
   "metadata": {
    "collapsed": false
   }
  },
  {
   "cell_type": "code",
   "execution_count": 46,
   "outputs": [
    {
     "data": {
      "text/plain": "<Figure size 500x500 with 1 Axes>",
      "image/png": "[encoded data removed]"
     },
     "metadata": {},
     "output_type": "display_data"
    }
   ],
   "source": [
    "fig, ax = plt.subplots(figsize=(5, 5))\n",
    "ani = plt.cla()\n",
    "\n",
    "#plot points\n",
    "ani = plt.plot(X0[0, :], X0[1, :], 'b^', markersize=8, alpha=.8)\n",
    "ani = plt.plot(X1[0, :], X1[1, :], 'ro', markersize=8, alpha=.8)\n",
    "ani = plt.axis([0, 6, -2, 4])\n",
    "\n",
    "plt.show()"
   ],
   "metadata": {
    "collapsed": false
   }
  },
  {
   "cell_type": "markdown",
   "source": [
    "Xây dựng hàm y"
   ],
   "metadata": {
    "collapsed": false
   }
  },
  {
   "cell_type": "code",
   "execution_count": 47,
   "outputs": [],
   "source": [
    "# Define h_w(x):= W^T.x + w_0 = \\bar{W}^T . \\bar{x}\n",
    "def h(w, x):\n",
    "    return np.sign(np.dot(w.T, x))"
   ],
   "metadata": {
    "collapsed": false
   }
  },
  {
   "cell_type": "markdown",
   "source": [
    "Kiểm tra điều kiện dừng"
   ],
   "metadata": {
    "collapsed": false
   }
  },
  {
   "cell_type": "code",
   "execution_count": 48,
   "outputs": [],
   "source": [
    "#Stop condition\n",
    "def has_converged(X, y, w):\n",
    "    return np.array_equal(h(w, X), y)  #True if h(w, X) == y else False"
   ],
   "metadata": {
    "collapsed": false
   }
  },
  {
   "cell_type": "markdown",
   "source": [
    "Vòng lặp chính tìm đường phân chia (bộ hệ số W) theo phương pháp Gradient Descent"
   ],
   "metadata": {
    "collapsed": false
   }
  },
  {
   "cell_type": "code",
   "execution_count": 49,
   "outputs": [],
   "source": [
    "def perceptron(X, y, w_init):\n",
    "    w = [w_init]\n",
    "    N = X.shape[1]\n",
    "    mis_points = []  # set of miss position points\n",
    "    max_iter = 10000\n",
    "    i = 0\n",
    "    while i < max_iter:\n",
    "        # mix data\n",
    "        mix_id = np.random.permutation(N)\n",
    "        for i in range(N):\n",
    "            xi = X[:, mix_id[i]].reshape(X.shape[0], 1)\n",
    "            yi = y[0, mix_id[i]]\n",
    "            if h(w[-1], xi)[0] != yi:\n",
    "                mis_points.append(mix_id[i])\n",
    "                w_new = w[-1] + yi * xi\n",
    "                w.append(w_new)\n",
    "        i = i + 1\n",
    "        if has_converged(X, y, w[-1]):\n",
    "            break\n",
    "    return (w, mis_points)"
   ],
   "metadata": {
    "collapsed": false
   }
  },
  {
   "cell_type": "markdown",
   "source": [
    "Gọi hàm lặp và in ra kết quả là bộ trọng số W ở vòng lặp cuối"
   ],
   "metadata": {
    "collapsed": false
   }
  },
  {
   "cell_type": "code",
   "execution_count": 50,
   "outputs": [
    {
     "name": "stdout",
     "output_type": "stream",
     "text": [
      "[[-1.02141473]\n",
      " [ 0.4323957 ]\n",
      " [-0.32358007]]\n",
      "(3, 60)\n",
      "(1, 60)\n"
     ]
    }
   ],
   "source": [
    "d = X.shape[0]\n",
    "w_init = np.random.randn(d, 1)\n",
    "print(w_init)\n",
    "print(X.shape)\n",
    "print(y.shape)\n",
    "(w, m) = perceptron(X, y, w_init)"
   ],
   "metadata": {
    "collapsed": false
   }
  },
  {
   "cell_type": "markdown",
   "source": [
    "Tiếp theo chúng ta xây dựng phương thức vẽ đường phân chia để quan sát kết quả"
   ],
   "metadata": {
    "collapsed": false
   }
  },
  {
   "cell_type": "code",
   "execution_count": 51,
   "outputs": [],
   "source": [
    "def draw_line(w):\n",
    "    w0, w1, w2 = w[0], w[1], w[2]\n",
    "    if w2 != 0:\n",
    "        x11, x12 = -100, 100\n",
    "        return plt.plot([x11, x12], [-(w1 * x11 + w0) / w2, -(w1 * x12 + w0) / w2], 'k')\n",
    "    else:\n",
    "        x10 = -w0 / w1\n",
    "        return plt.plot([x10, x10], [-100, 100], 'k')"
   ],
   "metadata": {
    "collapsed": false
   }
  },
  {
   "cell_type": "markdown",
   "source": [
    "Trong phần cuối, chúng ta sẽ hiển thị kết quả dạng ảnh động (gif)"
   ],
   "metadata": {
    "collapsed": false
   }
  },
  {
   "cell_type": "code",
   "execution_count": 52,
   "outputs": [
    {
     "name": "stderr",
     "output_type": "stream",
     "text": [
      "MovieWriter imagemagick unavailable; using Pillow instead.\n"
     ]
    },
    {
     "data": {
      "text/plain": "<Figure size 500x500 with 1 Axes>",
      "image/png": "[encoded data removed]"
     },
     "metadata": {},
     "output_type": "display_data"
    }
   ],
   "source": [
    "## Visualization\n",
    "import matplotlib.animation as animation\n",
    "from matplotlib.animation import FuncAnimation\n",
    "\n",
    "\n",
    "def viz_alg_1d_2(w):\n",
    "    it = len(w)\n",
    "    fig, ax = plt.subplots(figsize=(5, 5))\n",
    "\n",
    "    def update(i):\n",
    "        ani = plt.cla()\n",
    "        #points\n",
    "        ani = plt.plot(X0[0, :], X0[1, :], 'b^', markersize=8, alpha=.8)\n",
    "        ani = plt.plot(X1[0, :], X1[1, :], 'ro', markersize=8, alpha=.8)\n",
    "        ani = plt.axis([0, 6, -2, 4])\n",
    "        i2 = i if i < it else it - 1\n",
    "        ani = draw_line(w[i2])\n",
    "        if i < it - 1:\n",
    "            # draw one misclassified point\n",
    "            circle = plt.Circle((X[1, m[i]], X[2, m[i]]), 0.15, color='k', fill=False)\n",
    "            ax.add_artist(circle)\n",
    "        # hide axis\n",
    "        cur_axes = plt.gca()\n",
    "        cur_axes.axes.get_xaxis().set_ticks([])\n",
    "        cur_axes.axes.get_yaxis().set_ticks([])\n",
    "        label = 'PLA: iter %d/%d' % (i2, it - 1)\n",
    "        ax.set_xlabel(label)\n",
    "        return ani, ax\n",
    "\n",
    "    anim = FuncAnimation(fig, update, frames=np.arange(0, it + 2), interval=1000)\n",
    "    # save\n",
    "    anim.save('C:\\\\Users\\\\thanhsen\\\\Documents\\\\Học máy\\\\pla_vis.gif', dpi=100, writer='imagemagick')\n",
    "    plt.show()\n",
    "\n",
    "\n",
    "viz_alg_1d_2(w)"
   ],
   "metadata": {
    "collapsed": false
   }
  },
  {
   "cell_type": "markdown",
   "source": [
    "# Ví dụ 2"
   ],
   "metadata": {
    "collapsed": false
   }
  },
  {
   "cell_type": "code",
   "execution_count": 53,
   "outputs": [
    {
     "name": "stdout",
     "output_type": "stream",
     "text": [
      "[-1, -1, -1, -1, -1, -1, -1, -1, -1, -1, -1, -1, -1, -1, -1, -1, -1, -1, -1, -1, -1, -1, -1, -1, -1, -1, -1, -1, -1, -1, -1, -1, -1, -1, -1, -1, -1, -1, -1, -1, -1, -1, -1, -1, -1, -1, -1, -1, -1, -1, -1, -1, -1, -1, -1, -1, -1, -1, -1, -1, -1, -1, -1, -1, -1, -1, -1, -1, -1, -1, -1, -1, -1, -1, -1, -1, -1, -1, -1, -1, -1, -1, -1, -1, -1, -1, -1, -1, -1, -1, -1, -1, -1, -1, -1, -1, -1, 1, 1, 1, 1, 1, 1, 1, 1, 1, 1, 1, 1, 1, 1, 1, 1, 1, 1, 1, 1, 1, 1, 1, 1, 1, 1, 1, 1, 1, 1, 1, 1, 1, 1, 1, 1, 1, 1, 1, 1, 1, 1, 1, 1, 1, 1, 1, 1, 1, 1, 1, 1, 1, 1, 1, 1, 1, 1, 1, 1, 1, 1, 1, 1, 1, 1, 1, 1, 1, 1, 1, 1, 1, 1, 1, 1, 1, 1, 1, 1, 1, 1, 1, 1, 1, 1, 1, 1, 1, 1, 1, 1, 1, 1, 1, 1, 1, 1, 1, 1, 1, 1, 1, 1, 1, 1, 1, 1, 1, 1, 1]\n"
     ]
    },
    {
     "data": {
      "text/plain": "<Figure size 640x480 with 1 Axes>",
      "image/png": "[encoded data removed]"
     },
     "metadata": {},
     "output_type": "display_data"
    }
   ],
   "source": [
    "import numpy as np  # linear algebra\n",
    "import pandas as pd  # data processing, CSV file I/O (e.g. pd.read_csv)\n",
    "from matplotlib import pyplot\n",
    "import matplotlib.pyplot as plt\n",
    "import seaborn as sns\n",
    "\n",
    "main_df = pd.read_csv('C:\\\\Users\\\\thanhsen\\\\Notebooks\\\\Học máy\\\\w6\\\\sonar.all-data.csv', header=None)\n",
    "main_df\n",
    "main_df[60].value_counts().plot(kind='barh')\n",
    "y_df = main_df[60]\n",
    "targes_label = {'M': 1, 'R': -1}\n",
    "targes_df = [targes_label[item] for item in y_df]\n",
    "print(targes_df)\n",
    "\n",
    "inputs_df = main_df.drop(60, axis=1)\n",
    "\n",
    "x0 = np.ones((inputs_df.shape[0], 1))\n",
    "X = np.concatenate((x0, inputs_df), axis=1)\n",
    "\n",
    "from sklearn.model_selection import train_test_split\n",
    "\n",
    "X_train, X_test, y_train, y_test = train_test_split(X, targes_df, test_size=0.3, random_state=42)"
   ],
   "metadata": {
    "collapsed": false
   }
  },
  {
   "cell_type": "markdown",
   "source": [
    "## - Bài tập tự thực hành:"
   ],
   "metadata": {
    "collapsed": false
   }
  },
  {
   "cell_type": "code",
   "execution_count": 54,
   "outputs": [
    {
     "name": "stdout",
     "output_type": "stream",
     "text": [
      "[[ -41.57617529  153.29640916  -51.38370734 -155.37393949  155.21711837\n",
      "    40.38955933   32.69205254  -68.93413254  -26.24303674   52.59681463\n",
      "   -55.38750625   87.35418852   13.38639845   -5.3077185   -10.33738017\n",
      "     9.56341299  -27.97897205  -33.7686226    45.09815804  -19.21362938\n",
      "    54.1485246   -78.07127584   77.22488286  -55.44684153   66.94691175\n",
      "    -7.89195399  -12.8534796    -0.22521858   17.29993153  -28.436515\n",
      "    73.36058562 -104.52637958   32.59929485   43.16769927  -51.41692605\n",
      "    38.4681262   -68.68134943   16.90933109  -11.27928954   54.22818446\n",
      "   -51.99948133   -9.74930996  -27.15218184   61.93964114   -2.58919403\n",
      "    -7.61875688   57.53585001  -47.82234132  146.35601343  153.48844789\n",
      "  -213.48626139   99.62636461   69.60536874   24.70873457  122.10926935\n",
      "    -7.52601891  -66.89732329  -92.24981301   49.50542232  113.29265393\n",
      "    64.20223815]]\n"
     ]
    }
   ],
   "source": [
    "k = X_train.shape[1]\n",
    "y_train = np.array(y_train).reshape(-1, 1)\n",
    "w_init = np.random.randn(k, 1)\n",
    "(w, m) = perceptron(np.array(X_train).T, y_train.T, w_init)\n",
    "print(w[-1].T)"
   ],
   "metadata": {
    "collapsed": false
   }
  },
  {
   "cell_type": "code",
   "execution_count": 55,
   "outputs": [
    {
     "name": "stdout",
     "output_type": "stream",
     "text": [
      "[[ 1 -1  1 -1  1  1  1  1 -1  1  1 -1  1  1 -1  1  1  1  1 -1  1  1 -1  1\n",
      "  -1 -1 -1 -1  1  1 -1 -1 -1  1  1  1  1  1 -1 -1 -1 -1 -1  1 -1  1  1  1\n",
      "  -1 -1 -1  1 -1  1  1  1  1  1 -1  1  1  1 -1]]\n",
      "[1, -1, -1, -1, 1, -1, 1, 1, -1, 1, 1, -1, 1, 1, 1, 1, 1, 1, -1, -1, 1, 1, 1, 1, -1, -1, -1, -1, 1, 1, 1, -1, -1, 1, 1, 1, 1, 1, -1, 1, -1, 1, -1, 1, -1, -1, 1, 1, -1, -1, -1, 1, -1, -1, -1, -1, 1, 1, -1, 1, -1, 1, 1]\n",
      "Accuracy:  0.7777777777777778\n",
      "Recall:  0.8285714285714286\n",
      "Precision:  0.7837837837837838\n"
     ]
    }
   ],
   "source": [
    "from sklearn.metrics import accuracy_score, recall_score, precision_score\n",
    "\n",
    "y_pred = np.dot(w[-1].T, X_test.T)\n",
    "y_pred = np.where(y_pred > 0, 1, -1)\n",
    "print(y_pred)\n",
    "print(y_test)\n",
    "\n",
    "print('Accuracy: ', accuracy_score(y_test, y_pred.T))\n",
    "print('Recall: ', recall_score(y_test, y_pred.T))\n",
    "print('Precision: ', precision_score(y_test, y_pred.T))"
   ],
   "metadata": {
    "collapsed": false
   }
  },
  {
   "cell_type": "markdown",
   "source": [
    "## - Sử dụng thư viện sklearn.linear_model.Perceptron"
   ],
   "metadata": {
    "collapsed": false
   }
  },
  {
   "cell_type": "code",
   "execution_count": 56,
   "outputs": [
    {
     "name": "stdout",
     "output_type": "stream",
     "text": [
      "[[-13.45026995  15.242321  ]]\n"
     ]
    }
   ],
   "source": [
    "from sklearn.linear_model import Perceptron\n",
    "\n",
    "X = np.concatenate((X0, X1), axis=1)\n",
    "\n",
    "pct = Perceptron()\n",
    "# penalty ~ regularization: 'None','l1','l2'\n",
    "# fit_intercept = True => Xác định w_0 = b, = False => Bỏ qua\n",
    "# Training\n",
    "pct.fit(X.T, y.ravel())\n",
    "# Testing\n",
    "print(pct.coef_)\n"
   ],
   "metadata": {
    "collapsed": false
   }
  },
  {
   "cell_type": "code",
   "execution_count": 57,
   "outputs": [
    {
     "name": "stdout",
     "output_type": "stream",
     "text": [
      "[[ -41.57617529]\n",
      " [ 153.29640916]\n",
      " [ -51.38370734]\n",
      " [-155.37393949]\n",
      " [ 155.21711837]\n",
      " [  40.38955933]\n",
      " [  32.69205254]\n",
      " [ -68.93413254]\n",
      " [ -26.24303674]\n",
      " [  52.59681463]\n",
      " [ -55.38750625]\n",
      " [  87.35418852]\n",
      " [  13.38639845]\n",
      " [  -5.3077185 ]\n",
      " [ -10.33738017]\n",
      " [   9.56341299]\n",
      " [ -27.97897205]\n",
      " [ -33.7686226 ]\n",
      " [  45.09815804]\n",
      " [ -19.21362938]\n",
      " [  54.1485246 ]\n",
      " [ -78.07127584]\n",
      " [  77.22488286]\n",
      " [ -55.44684153]\n",
      " [  66.94691175]\n",
      " [  -7.89195399]\n",
      " [ -12.8534796 ]\n",
      " [  -0.22521858]\n",
      " [  17.29993153]\n",
      " [ -28.436515  ]\n",
      " [  73.36058562]\n",
      " [-104.52637958]\n",
      " [  32.59929485]\n",
      " [  43.16769927]\n",
      " [ -51.41692605]\n",
      " [  38.4681262 ]\n",
      " [ -68.68134943]\n",
      " [  16.90933109]\n",
      " [ -11.27928954]\n",
      " [  54.22818446]\n",
      " [ -51.99948133]\n",
      " [  -9.74930996]\n",
      " [ -27.15218184]\n",
      " [  61.93964114]\n",
      " [  -2.58919403]\n",
      " [  -7.61875688]\n",
      " [  57.53585001]\n",
      " [ -47.82234132]\n",
      " [ 146.35601343]\n",
      " [ 153.48844789]\n",
      " [-213.48626139]\n",
      " [  99.62636461]\n",
      " [  69.60536874]\n",
      " [  24.70873457]\n",
      " [ 122.10926935]\n",
      " [  -7.52601891]\n",
      " [ -66.89732329]\n",
      " [ -92.24981301]\n",
      " [  49.50542232]\n",
      " [ 113.29265393]\n",
      " [  64.20223815]]\n"
     ]
    }
   ],
   "source": [
    "print(w[-1])"
   ],
   "metadata": {
    "collapsed": false
   }
  },
  {
   "cell_type": "code",
   "execution_count": 58,
   "outputs": [
    {
     "name": "stdout",
     "output_type": "stream",
     "text": [
      "[ 1.  1.  1.  1.  1.  1.  1.  1.  1.  1.  1.  1.  1.  1.  1.  1.  1.  1.\n",
      "  1.  1.  1.  1.  1.  1.  1.  1.  1.  1.  1.  1. -1. -1. -1. -1. -1. -1.\n",
      " -1.  1. -1. -1. -1.  1. -1.  1. -1. -1.  1.  1. -1. -1. -1. -1.  1. -1.\n",
      " -1. -1. -1. -1. -1. -1.]\n"
     ]
    }
   ],
   "source": [
    "y_pred = pct.predict(X.T)\n",
    "print(y_pred)"
   ],
   "metadata": {
    "collapsed": false
   }
  },
  {
   "cell_type": "markdown",
   "source": [
    "# Ví dụ 3."
   ],
   "metadata": {
    "collapsed": false
   }
  },
  {
   "cell_type": "code",
   "execution_count": 59,
   "outputs": [
    {
     "name": "stdout",
     "output_type": "stream",
     "text": [
      "[1.245e+01 1.570e+01 8.257e+01 4.771e+02 1.278e-01 1.700e-01 1.578e-01\n",
      " 8.089e-02 2.087e-01 7.613e-02 3.345e-01 8.902e-01 2.217e+00 2.719e+01\n",
      " 7.510e-03 3.345e-02 3.672e-02 1.137e-02 2.165e-02 5.082e-03 1.547e+01\n",
      " 2.375e+01 1.034e+02 7.416e+02 1.791e-01 5.249e-01 5.355e-01 1.741e-01\n",
      " 3.985e-01 1.244e-01]\n",
      "(569, 30)\n",
      "[0 0 0 0 0 0 0 0 0 0 0 0 0 0 0 0 0 0 0 1 1 1 0 0 0 0 0 0 0 0 0 0 0 0 0 0 0\n",
      " 1 0 0 0 0 0 0 0 0 1 0 1 1 1 1 1 0 0 1 0 0 1 1 1 1 0 1 0 0 1 1 1 1 0 1 0 0\n",
      " 1 0 1 0 0 1 1 1 0 0 1 0 0 0 1 1 1 0 1 1 0 0 1 1 1 0 0 1 1 1 1 0 1 1 0 1 1\n",
      " 1 1 1 1 1 1 0 0 0 1 0 0 1 1 1 0 0 1 0 1 0 0 1 0 0 1 1 0 1 1 0 1 1 1 1 0 1\n",
      " 1 1 1 1 1 1 1 1 0 1 1 1 1 0 0 1 0 1 1 0 0 1 1 0 0 1 1 1 1 0 1 1 0 0 0 1 0\n",
      " 1 0 1 1 1 0 1 1 0 0 1 0 0 0 0 1 0 0 0 1 0 1 0 1 1 0 1 0 0 0 0 1 1 0 0 1 1\n",
      " 1 0 1 1 1 1 1 0 0 1 1 0 1 1 0 0 1 0 1 1 1 1 0 1 1 1 1 1 0 1 0 0 0 0 0 0 0\n",
      " 0 0 0 0 0 0 0 1 1 1 1 1 1 0 1 0 1 1 0 1 1 0 1 0 0 1 1 1 1 1 1 1 1 1 1 1 1\n",
      " 1 0 1 1 0 1 0 1 1 1 1 1 1 1 1 1 1 1 1 1 1 0 1 1 1 0 1 0 1 1 1 1 0 0 0 1 1\n",
      " 1 1 0 1 0 1 0 1 1 1 0 1 1 1 1 1 1 1 0 0 0 1 1 1 1 1 1 1 1 1 1 1 0 0 1 0 0\n",
      " 0 1 0 0 1 1 1 1 1 0 1 1 1 1 1 0 1 1 1 0 1 1 0 0 1 1 1 1 1 1 0 1 1 1 1 1 1\n",
      " 1 0 1 1 1 1 1 0 1 1 0 1 1 1 1 1 1 1 1 1 1 1 1 0 1 0 0 1 0 1 1 1 1 1 0 1 1\n",
      " 0 1 0 1 1 0 1 0 1 1 1 1 1 1 1 1 0 0 1 1 1 1 1 1 0 1 1 1 1 1 1 1 1 1 1 0 1\n",
      " 1 1 1 1 1 1 0 1 0 1 1 0 1 1 1 1 1 0 0 1 0 1 0 1 1 1 1 1 0 1 1 0 1 0 1 0 0\n",
      " 1 1 1 0 1 1 1 1 1 1 1 1 1 1 1 0 1 0 0 1 1 1 1 1 1 1 1 1 1 1 1 1 1 1 1 1 1\n",
      " 1 1 1 1 1 1 1 0 0 0 0 0 0 1]\n"
     ]
    }
   ],
   "source": [
    "from sklearn import datasets\n",
    "\n",
    "cancer_data = datasets.load_breast_cancer()\n",
    "\n",
    "# show to test record 5th\n",
    "print(cancer_data.data[5])\n",
    "\n",
    "print(cancer_data.data.shape)\n",
    "\n",
    "#target set\n",
    "print(cancer_data.target)\n",
    "\n",
    "from sklearn.model_selection import train_test_split\n",
    "\n",
    "cancer_data = datasets.load_breast_cancer()\n",
    "X_train, X_test, y_train, y_test = train_test_split(cancer_data.data, cancer_data.target, test_size=0.3,\n",
    "                                                    random_state=109)"
   ],
   "metadata": {
    "collapsed": false
   }
  },
  {
   "cell_type": "code",
   "execution_count": 60,
   "outputs": [
    {
     "name": "stdout",
     "output_type": "stream",
     "text": [
      "Accuracy:  0.9473684210526315\n",
      "Recall:  0.9629629629629629\n",
      "Precision:  0.9541284403669725\n"
     ]
    }
   ],
   "source": [
    "from sklearn.linear_model import Perceptron\n",
    "\n",
    "pct = Perceptron()\n",
    "pct.fit(X_train, y_train.ravel())\n",
    "y_pred = pct.predict(X_test)\n",
    "\n",
    "from sklearn.metrics import accuracy_score, recall_score, precision_score\n",
    "\n",
    "print('Accuracy: ', accuracy_score(y_test, y_pred))\n",
    "print('Recall: ', recall_score(y_test, y_pred))\n",
    "print('Precision: ', precision_score(y_test, y_pred))\n"
   ],
   "metadata": {
    "collapsed": false
   }
  },
  {
   "cell_type": "markdown",
   "source": [
    "# Bài tập thực hành:"
   ],
   "metadata": {
    "collapsed": false
   }
  },
  {
   "cell_type": "markdown",
   "source": [
    "# Sử dụng lại dữ liệu trong ví dụ 2 và ví dụ 3, sau đó\n",
    "## - Thực hiện giảm số chiều về 02 chiều bằng PCA\n",
    "## - Vẽ biểu đồ PCA"
   ],
   "metadata": {
    "collapsed": false
   }
  },
  {
   "cell_type": "code",
   "execution_count": 61,
   "outputs": [
    {
     "data": {
      "text/plain": "<Figure size 640x480 with 1 Axes>",
      "image/png": "[encoded data removed]"
     },
     "metadata": {},
     "output_type": "display_data"
    }
   ],
   "source": [
    "import numpy as np\n",
    "import pandas as pd\n",
    "import matplotlib.pyplot as plt\n",
    "from sklearn.decomposition import PCA\n",
    "from sklearn.preprocessing import StandardScaler\n",
    "\n",
    "main_df = pd.read_csv('C:\\\\Users\\\\thanhsen\\\\Notebooks\\\\Học máy\\\\w6\\\\sonar.all-data.csv', header=None)\n",
    "X = main_df.drop(60, axis=1)\n",
    "X = StandardScaler().fit_transform(X)\n",
    "pca = PCA(n_components=2)\n",
    "principalComponents = pca.fit_transform(X)\n",
    "\n",
    "from sklearn import datasets\n",
    "cancer_data = datasets.load_breast_cancer()\n",
    "X1 = cancer_data.data\n",
    "X1 = StandardScaler().fit_transform(X1)\n",
    "pca = PCA(n_components=2)\n",
    "principalComponents1 = pca.fit_transform(X1)\n",
    "\n",
    "# Hiển thị kết quả principalComponents và principalComponents1 lên màn hình, biểu diễn bằng 2 màu khác nhau\n",
    "\n",
    "import matplotlib.pyplot as plt\n",
    "import numpy as np\n",
    "\n",
    "plt.scatter(principalComponents[:, 0], principalComponents[:, 1], c='r', label='Sonar')\n",
    "plt.scatter(principalComponents1[:, 0], principalComponents1[:, 1], c='b', label='Breast cancer')\n",
    "plt.legend()\n",
    "plt.show()"
   ],
   "metadata": {
    "collapsed": false
   }
  },
  {
   "cell_type": "markdown",
   "source": [
    "## - Thực hiện phân loại bằng hồi quy Logistic và so sánh kết quả với phương pháp Perceptron đã thực hiện ở phần trước."
   ],
   "metadata": {
    "collapsed": false
   }
  },
  {
   "cell_type": "code",
   "execution_count": 62,
   "outputs": [
    {
     "name": "stdout",
     "output_type": "stream",
     "text": [
      "Accuracy:  0.9707602339181286\n",
      "Recall:  0.9722222222222222\n",
      "Precision:  0.9813084112149533\n"
     ]
    }
   ],
   "source": [
    "# Thực hiện phân loại bằng hồi quy Logistic và so sánh kết quả với phương pháp Perceptron đã thực hiện ở phần trước.\n",
    "\n",
    "from sklearn.linear_model import LogisticRegression\n",
    "from sklearn.metrics import accuracy_score, recall_score, precision_score\n",
    "\n",
    "logreg = LogisticRegression(max_iter=10000)\n",
    "logreg.fit(X_train, y_train)\n",
    "y_pred = logreg.predict(X_test)\n",
    "\n",
    "print('Accuracy: ', accuracy_score(y_test, y_pred))\n",
    "print('Recall: ', recall_score(y_test, y_pred))\n",
    "print('Precision: ', precision_score(y_test, y_pred))"
   ],
   "metadata": {
    "collapsed": false
   }
  },
  {
   "cell_type": "markdown",
   "source": [
    "# Ví dụ 4 (Bài tập tự thực hành)."
   ],
   "metadata": {
    "collapsed": false
   }
  },
  {
   "cell_type": "markdown",
   "source": [
    "## - Hãy xử lý sơ bộ dữ liệu như trong yêu cầu của phần hồi quy logistic. Chia tập dữ liệu thành Traning:Validation = 7:3."
   ],
   "metadata": {
    "collapsed": false
   }
  },
  {
   "cell_type": "code",
   "execution_count": 66,
   "outputs": [],
   "source": [
    "import numpy as np\n",
    "import pandas as pd\n",
    "from sklearn.model_selection import train_test_split\n",
    "from sklearn.linear_model import LogisticRegression\n",
    "from sklearn.metrics import accuracy_score, recall_score, precision_score\n",
    "\n",
    "df = pd.read_csv(\"framingham.csv\")\n",
    "\n",
    "# Xóa các dòng có giá trị NaN\n",
    "df=df.dropna(how=\"any\", axis=0)\n",
    "\n",
    "# Tạo tập train và tập test\n",
    "X = df.drop('TenYearCHD', axis=1)\n",
    "y = df['TenYearCHD']\n",
    "\n",
    "# Chia tập dữ liệu thành tập train và tập test với tỉ lệ 70:30\n",
    "X_train, X_test, y_train, y_test = train_test_split(X, y, test_size=0.3, random_state=0)\n",
    "\n"
   ],
   "metadata": {
    "collapsed": false
   }
  },
  {
   "cell_type": "markdown",
   "source": [
    "## - Thực hiện phân loại bằng phương pháp Perceptron. Tính các độ đo Accuracy, Precision và Recall để đánh giá kết quả."
   ],
   "metadata": {
    "collapsed": false
   }
  },
  {
   "cell_type": "code",
   "execution_count": 67,
   "outputs": [
    {
     "name": "stdout",
     "output_type": "stream",
     "text": [
      "Accuracy:  0.8422971741112124\n",
      "Recall:  0.1242603550295858\n",
      "Precision:  0.45652173913043476\n"
     ]
    }
   ],
   "source": [
    "from sklearn.linear_model import Perceptron\n",
    "\n",
    "pct = Perceptron()\n",
    "pct.fit(X_train, y_train.ravel())\n",
    "y_pred = pct.predict(X_test)\n",
    "\n",
    "from sklearn.metrics import accuracy_score, recall_score, precision_score\n",
    "\n",
    "print('Accuracy: ', accuracy_score(y_test, y_pred))\n",
    "print('Recall: ', recall_score(y_test, y_pred))\n",
    "print('Precision: ', precision_score(y_test, y_pred))\n"
   ],
   "metadata": {
    "collapsed": false
   }
  },
  {
   "cell_type": "markdown",
   "source": [
    "## - Thực hiện phân loại bằng phương pháp Hồi quy Logistic trên cùng bộ dữ liệu training:validation đã có ở ý trên. Tính các độ đo Accuracy, Precision và Recall và so sánh kết quả."
   ],
   "metadata": {
    "collapsed": false
   }
  },
  {
   "cell_type": "code",
   "execution_count": 68,
   "outputs": [
    {
     "name": "stdout",
     "output_type": "stream",
     "text": [
      "Predictions:  [0 0 0 ... 0 0 0]\n",
      "Accuracy:  0.8514129443938013\n",
      "Precision:  0.6875\n",
      "Recall:  0.0650887573964497\n"
     ]
    }
   ],
   "source": [
    "# Xây dựng mô hình Logistic Regression\n",
    "logmodel = LogisticRegression(max_iter=10000)\n",
    "logmodel.fit(X_train, y_train)\n",
    "predictions = logmodel.predict(X_test)\n",
    "print('Predictions: ', predictions)\n",
    "\n",
    "print('Accuracy: ', accuracy_score(y_test, predictions))\n",
    "print('Precision: ', precision_score(y_test, predictions))\n",
    "print('Recall: ', recall_score(y_test, predictions))\n"
   ],
   "metadata": {
    "collapsed": false
   }
  }
 ],
 "metadata": {
  "kernelspec": {
   "display_name": "Python 3",
   "language": "python",
   "name": "python3"
  },
  "language_info": {
   "codemirror_mode": {
    "name": "ipython",
    "version": 2
   },
   "file_extension": ".py",
   "mimetype": "text/x-python",
   "name": "python",
   "nbconvert_exporter": "python",
   "pygments_lexer": "ipython2",
   "version": "2.7.6"
  }
 },
 "nbformat": 4,
 "nbformat_minor": 0
}
